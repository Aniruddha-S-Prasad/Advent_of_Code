{
 "cells": [
  {
   "cell_type": "code",
   "execution_count": 1,
   "metadata": {},
   "outputs": [],
   "source": [
    "rucksacks = []\n",
    "common_items = []\n",
    "with open('input.txt', 'r') as rucksacks_file:\n",
    "    for rucksack in rucksacks_file:\n",
    "        rucksacks.append(rucksack)"
   ]
  },
  {
   "cell_type": "code",
   "execution_count": 11,
   "metadata": {},
   "outputs": [],
   "source": [
    "badge = []\n",
    "\n",
    "for ctr in range(len(rucksacks)//3):\n",
    "    group = [rucksacks[3*ctr], rucksacks[3*ctr + 1], rucksacks[3*ctr + 2]]\n",
    "    for char in group[0]:\n",
    "            if (char in group[1]) and (char in group[2]):\n",
    "                if char.isupper():\n",
    "                    badge.append(ord(char) - 38)\n",
    "                else:\n",
    "                    badge.append(ord(char) - 96)\n",
    "                break\n"
   ]
  },
  {
   "cell_type": "code",
   "execution_count": 12,
   "metadata": {},
   "outputs": [
    {
     "data": {
      "text/plain": [
       "100"
      ]
     },
     "execution_count": 12,
     "metadata": {},
     "output_type": "execute_result"
    }
   ],
   "source": [
    "len(badge)"
   ]
  },
  {
   "cell_type": "code",
   "execution_count": 13,
   "metadata": {},
   "outputs": [
    {
     "data": {
      "text/plain": [
       "2650"
      ]
     },
     "execution_count": 13,
     "metadata": {},
     "output_type": "execute_result"
    }
   ],
   "source": [
    "import numpy as np\n",
    "np.sum(np.array(badge))"
   ]
  }
 ],
 "metadata": {
  "kernelspec": {
   "display_name": "Python 3.10.6 ('.venv': venv)",
   "language": "python",
   "name": "python3"
  },
  "language_info": {
   "codemirror_mode": {
    "name": "ipython",
    "version": 3
   },
   "file_extension": ".py",
   "mimetype": "text/x-python",
   "name": "python",
   "nbconvert_exporter": "python",
   "pygments_lexer": "ipython3",
   "version": "3.10.6"
  },
  "orig_nbformat": 4,
  "vscode": {
   "interpreter": {
    "hash": "b36ab51a1251bf7ce6eb391a4309c26f48034c1097644c40bfe30f5bdf19dbe5"
   }
  }
 },
 "nbformat": 4,
 "nbformat_minor": 2
}
