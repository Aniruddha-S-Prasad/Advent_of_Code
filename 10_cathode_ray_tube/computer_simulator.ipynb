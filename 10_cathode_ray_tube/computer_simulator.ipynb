{
 "cells": [
  {
   "cell_type": "code",
   "execution_count": 20,
   "metadata": {},
   "outputs": [],
   "source": [
    "import numpy as np\n",
    "\n",
    "with open ('input.txt', 'r') as asm_file:\n",
    "    instructions = [line.strip().split(' ') for line in asm_file]\n",
    "\n",
    "for instruction in instructions:\n",
    "    if instruction[0] == 'addx':\n",
    "        instruction[1] = int(instruction[1])"
   ]
  },
  {
   "cell_type": "code",
   "execution_count": 21,
   "metadata": {},
   "outputs": [],
   "source": [
    "x = 1\n",
    "\n",
    "program_ptr = 0\n",
    "cycle = 1\n",
    "stack_trace = []\n",
    "\n",
    "while cycle < 221:\n",
    "    if instructions[program_ptr][0] == 'noop':\n",
    "        stack_trace.append([cycle, x])\n",
    "        cycle += 1\n",
    "        program_ptr += 1\n",
    "    elif instructions[program_ptr][0] == 'addx':\n",
    "        for i in range(2):\n",
    "            stack_trace.append([cycle, x])\n",
    "            cycle += 1\n",
    "        x += instructions[program_ptr][1]\n",
    "        program_ptr += 1\n"
   ]
  },
  {
   "cell_type": "code",
   "execution_count": 22,
   "metadata": {},
   "outputs": [
    {
     "name": "stdout",
     "output_type": "stream",
     "text": [
      "14520\n"
     ]
    }
   ],
   "source": [
    "\n",
    "sum_sig_strengths = 0\n",
    "\n",
    "for cycle in [20, 60, 100, 140, 180, 220]:\n",
    "    sum_sig_strengths += cycle*stack_trace[cycle-1][1]\n",
    "\n",
    "print(sum_sig_strengths)"
   ]
  }
 ],
 "metadata": {
  "kernelspec": {
   "display_name": ".venv",
   "language": "python",
   "name": "python3"
  },
  "language_info": {
   "codemirror_mode": {
    "name": "ipython",
    "version": 3
   },
   "file_extension": ".py",
   "mimetype": "text/x-python",
   "name": "python",
   "nbconvert_exporter": "python",
   "pygments_lexer": "ipython3",
   "version": "3.11.1"
  },
  "orig_nbformat": 4,
  "vscode": {
   "interpreter": {
    "hash": "cea074abfc94c950f6485c63e52dfe40752ca085f0ad05b45bf830333c6ba8a0"
   }
  }
 },
 "nbformat": 4,
 "nbformat_minor": 2
}
