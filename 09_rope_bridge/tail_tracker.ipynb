{
 "cells": [
  {
   "cell_type": "code",
   "execution_count": 1,
   "metadata": {},
   "outputs": [],
   "source": [
    "import numpy as np"
   ]
  },
  {
   "cell_type": "code",
   "execution_count": 2,
   "metadata": {},
   "outputs": [],
   "source": [
    "with open('input.txt', 'r') as head_motion_file:\n",
    "    instructions = [instruction.strip().split(' ') for instruction in head_motion_file]\n",
    "\n",
    "for instruction in instructions:\n",
    "    instruction[1] = int(instruction[1])\n",
    "\n",
    "neighbour_index = [[index[0]-1, index[1]-1] for index in np.ndindex((3,3))]\n",
    "\n",
    "if [-1,2] in neighbour_index:\n",
    "    print('tehre')"
   ]
  },
  {
   "cell_type": "code",
   "execution_count": 6,
   "metadata": {},
   "outputs": [
    {
     "name": "stdout",
     "output_type": "stream",
     "text": [
      "[[0, 0], [0, 0], [0, 0], [0, 0], [0, 0], [0, 0], [0, 0], [0, 0], [0, 0], [0, 0]]\n"
     ]
    }
   ],
   "source": [
    "rope_knots = [[0,0] for i in range(10)]\n",
    "print(rope_knots)"
   ]
  },
  {
   "cell_type": "code",
   "execution_count": 4,
   "metadata": {},
   "outputs": [],
   "source": [
    "def update_tail_location(head_location: list, tail_location: list, visited_locations: set):\n",
    "    tail_location_wrt_head = [tail_location[0] - head_location[0], tail_location[1] - head_location[1]]\n",
    "    if tail_location_wrt_head not in neighbour_index:\n",
    "        tail_location[0] += 0 if tail_location_wrt_head[0] == 0 else (1 if tail_location_wrt_head[0] < 0 else -1)\n",
    "        tail_location[1] += 0 if tail_location_wrt_head[1] == 0 else (1 if tail_location_wrt_head[1] < 0 else -1)\n",
    "    visited_locations.add((tail_location[0], tail_location[1]))"
   ]
  },
  {
   "cell_type": "code",
   "execution_count": 5,
   "metadata": {},
   "outputs": [
    {
     "name": "stdout",
     "output_type": "stream",
     "text": [
      "5619\n"
     ]
    }
   ],
   "source": [
    "head_location = [0, 0]\n",
    "tail_location = [0, 0]\n",
    "visited_locations = set()\n",
    "visited_locations.add((tail_location[0], tail_location[1]))\n",
    "\n",
    "for instruction in instructions:\n",
    "    direction = instruction[0]\n",
    "    distance = instruction[1]\n",
    "\n",
    "    match direction:\n",
    "        case 'U':\n",
    "            for step in range(distance):\n",
    "                head_location[1] += 1\n",
    "                update_tail_location(head_location, tail_location, visited_locations)\n",
    "        case 'D':\n",
    "            for step in range(distance):\n",
    "                head_location[1] -= 1\n",
    "                update_tail_location(head_location, tail_location, visited_locations)\n",
    "        case 'L':\n",
    "            for step in range(distance):\n",
    "                head_location[0] -= 1\n",
    "                update_tail_location(head_location, tail_location, visited_locations)\n",
    "        case 'R':\n",
    "            for step in range(distance):\n",
    "                head_location[0] += 1\n",
    "                update_tail_location(head_location, tail_location, visited_locations)\n",
    "\n",
    "print(len(visited_locations))\n",
    "        "
   ]
  },
  {
   "cell_type": "code",
   "execution_count": null,
   "metadata": {},
   "outputs": [],
   "source": []
  }
 ],
 "metadata": {
  "kernelspec": {
   "display_name": ".venv",
   "language": "python",
   "name": "python3"
  },
  "language_info": {
   "codemirror_mode": {
    "name": "ipython",
    "version": 3
   },
   "file_extension": ".py",
   "mimetype": "text/x-python",
   "name": "python",
   "nbconvert_exporter": "python",
   "pygments_lexer": "ipython3",
   "version": "3.11.1"
  },
  "orig_nbformat": 4,
  "vscode": {
   "interpreter": {
    "hash": "cea074abfc94c950f6485c63e52dfe40752ca085f0ad05b45bf830333c6ba8a0"
   }
  }
 },
 "nbformat": 4,
 "nbformat_minor": 2
}
