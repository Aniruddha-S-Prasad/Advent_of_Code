{
 "cells": [
  {
   "cell_type": "code",
   "execution_count": 32,
   "metadata": {},
   "outputs": [],
   "source": [
    "common_items = []\n",
    "with open('input.txt', 'r') as rucksacks_file:\n",
    "    for rucksack in rucksacks_file:\n",
    "        compartment_size = len(rucksack.strip())//2\n",
    "        compartment_l = rucksack[:compartment_size]\n",
    "        compartment_r = rucksack[compartment_size:]\n",
    "\n",
    "        for char in compartment_l:\n",
    "            if char in compartment_r:\n",
    "                if char.isupper():\n",
    "                    common_items.append(ord(char) - 38)\n",
    "                else:\n",
    "                    common_items.append(ord(char) - 96)\n",
    "                break\n",
    "        "
   ]
  },
  {
   "cell_type": "code",
   "execution_count": 28,
   "metadata": {},
   "outputs": [
    {
     "data": {
      "text/plain": [
       "(97, 65)"
      ]
     },
     "execution_count": 28,
     "metadata": {},
     "output_type": "execute_result"
    }
   ],
   "source": [
    "ord('a'), ord('A')"
   ]
  },
  {
   "cell_type": "code",
   "execution_count": 33,
   "metadata": {},
   "outputs": [
    {
     "data": {
      "text/plain": [
       "7428"
      ]
     },
     "execution_count": 33,
     "metadata": {},
     "output_type": "execute_result"
    }
   ],
   "source": [
    "import numpy as np\n",
    "np.sum(np.array(common_items))"
   ]
  }
 ],
 "metadata": {
  "kernelspec": {
   "display_name": "Python 3.10.6 ('.venv': venv)",
   "language": "python",
   "name": "python3"
  },
  "language_info": {
   "codemirror_mode": {
    "name": "ipython",
    "version": 3
   },
   "file_extension": ".py",
   "mimetype": "text/x-python",
   "name": "python",
   "nbconvert_exporter": "python",
   "pygments_lexer": "ipython3",
   "version": "3.10.6"
  },
  "orig_nbformat": 4,
  "vscode": {
   "interpreter": {
    "hash": "b36ab51a1251bf7ce6eb391a4309c26f48034c1097644c40bfe30f5bdf19dbe5"
   }
  }
 },
 "nbformat": 4,
 "nbformat_minor": 2
}
